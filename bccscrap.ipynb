{
 "cells": [
  {
   "cell_type": "markdown",
   "metadata": {},
   "source": [
    "# 1. pip install pandas bs4 and beautifulSoup + Importing the libarys"
   ]
  },
  {
   "cell_type": "code",
   "execution_count": 7,
   "metadata": {},
   "outputs": [],
   "source": [
    "from bs4 import BeautifulSoup\n",
    "import requests\n",
    "import re\n",
    "import pandas as pd"
   ]
  },
  {
   "cell_type": "markdown",
   "metadata": {},
   "source": [
    "## STEP 2. Access the HTML content from the webpage by assigning the URL and creating a soup object.\n"
   ]
  },
  {
   "cell_type": "code",
   "execution_count": 8,
   "metadata": {},
   "outputs": [],
   "source": [
    "# Access the HTML content from the webpage by assigning the URL and creating a soup object.\n",
    "headers = {'Accept-Language': 'en-US,en;q=0.8'}\n",
    "url = 'http://www.bbc.com'\n",
    "response = requests.get(url,headers=headers)\n",
    "soup = BeautifulSoup(response.text, \"html.parser\")\n"
   ]
  },
  {
   "cell_type": "markdown",
   "metadata": {},
   "source": [
    "* select the tag \\<```h3```\\> with the class ```article__title```. Please notice the text scraped is still in html format."
   ]
  },
  {
   "cell_type": "code",
   "execution_count": 9,
   "metadata": {},
   "outputs": [
    {
     "name": "stdout",
     "output_type": "stream",
     "text": [
      "<h3 class=\"media__title\">\n",
      "<a class=\"media__link\" href=\"/news/world-europe-66863702\" rev=\"hero1|headline\">\n",
      "                                                                    Ceasefire deal as Karabakh forces agree to disarm                                                            </a>\n",
      "</h3>\n",
      " \n",
      "how many titles are available? 49\n"
     ]
    }
   ],
   "source": [
    "#Extract the title\n",
    "newstitle = soup.select('h3.media__title') #check website class\n",
    "print(newstitle[0])\n",
    "print(\" \")\n",
    "print(\"how many titles are available?\",len(soup.select('h3.media__title')))"
   ]
  },
  {
   "cell_type": "code",
   "execution_count": 10,
   "metadata": {},
   "outputs": [
    {
     "name": "stdout",
     "output_type": "stream",
     "text": [
      "['/news/world-europe-66863702', 'https://www.bbc.com/news/world-asia-india-66851960', 'https://www.bbc.com/news/world-us-canada-66861588', 'https://www.bbc.com/worklife/article/20230918-the-companies-doling-out-thousands-for-workers-holidays', 'https://www.bbc.com/future/article/20230918-how-community-maps-can-protect-children-from-extreme-heat', '/sport/football/66863081', '/news/world-asia-india-66844028', '/news/live/world-europe-66866545', '/sport/live/football/66862986', '/sport/football/66865014', '/sport/football/66769248', 'https://www.bbc.com/news/world-australia-66793592', '/news/world-asia-india-66851144', '/news/business-66862576', '/news/world-asia-66852841', 'https://www.bbc.com/travel/article/20230919-the-simple-art-of-rice-seafood-paella-with-lime', 'https://www.bbc.com/worklife/article/20230918-business-in-russia-why-some-firms-havent-left', 'https://www.bbc.com/culture/article/20230919-the-super-models-how-linda-cindy-christy-naomi-and-tatjana-defined-an-era', 'https://www.bbc.com/future/article/20230912-how-i-hacked-my-brain', 'https://www.bbc.com/travel/article/20230919-a-royal-tour-of-londons-best-palaces-and-parks-with-historian-tracy-borman', 'https://www.bbc.com/news/world-us-canada-66777096', 'https://www.bbc.com/news/business-66841602', 'https://www.bbc.com/news/business-66798680', 'https://www.bbc.com/news/world-us-canada-66715271?&at_bbc_team=studios&at_medium=native&at_objective=acquisition&at_ptr_type=&at_ptr_name=bbc.com&at_format=Module&at_link_origin=bbchomepage&at_campaign=nleditorial&at_campaign_id=&at_adset_name=&at_adset_id=&at_creation=&at_creative_id=&at_campaign_type=owned', '/news/world-africa-66862091', '/news/world-africa-66862091', '/news/world-asia-66856413', '/news/world-66853551', '/news/world-africa-66838176', '/news/world-africa-66833155', '/news/uk-wales-66833895', '/news/world-africa-66830535', '/news/world-africa-66830533', '/news/world-us-canada-66827928', '/news/uk-66842877', '/news/entertainment-arts-66863272', '/news/business-66847747', '/news/science-environment-66847977', '/news/technology-66854622', '/news/health-66807432', '/news/entertainment-arts-66863274', '/news/in-pictures-66810094', 'https://www.bbc.com/reel/playlist/future-planet?vpid=p07gsk79', 'https://www.bbc.com/news/business-66669641', '/news/entertainment-arts-66808254', '/news/world-africa-66807540', '/news/in-pictures-66807814', '/news/in-pictures-66805006', '/news/in-pictures-66784928']\n"
     ]
    }
   ],
   "source": [
    "# just to get the links\n",
    "links=[]\n",
    "for a in soup.select('h3.media__title a'):\n",
    "  links.append(a.attrs.get('href'))\n",
    "\n",
    "print(links)"
   ]
  },
  {
   "cell_type": "code",
   "execution_count": 13,
   "metadata": {},
   "outputs": [
    {
     "name": "stdout",
     "output_type": "stream",
     "text": [
      "['\\n                                                                    Ceasefire deal as Karabakh forces agree to disarm                                                            ', '\\n                                                                    India warns citizens in Canada to be cautious                                                            ', '\\n                                                                    US child dies from fentanyl kept under nursery mat                                                            ', '\\n                                                                    The newest perk: Employer-paid travel                                                            ', \"\\n                                                                    Why heat is a 'silent killer'                                                            \", '\\n                                                                    Spain players agree to end boycott                                                            ', \"\\n                                                                    Torture, rape, killings: An Indian state's brutal conflict                                                            \", '\\n                                                                    Macron welcomes King Charles and Queen Camilla to France                                                            ', '\\n                                                                    Champions League build-up and Europa League news conferences                                                            ', '\\n                                                                    Solskjaer criticises some players from Man Utd reign                                                            ', \"\\n                                                                    The 'terror football' set to raid Champions League                                                            \", '\\n                                                                    A haunted Australia stares down bushfire disaster again                                                            ', '\\n                                                                    How India-Canada ties descended into a public feud                                                            ', '\\n                                                                    China imports of Japan fish dive over Fukushima release                                                            ', '\\n                                                                    Indonesia TikToker jailed over pork video                                                            ', '\\n                                                                    A one-pot wonder rice dish                                                            ', '\\n                                                                    The businesses staying in Russia                                                            ', '\\n                                                                    The superstar models who ruled the 90s                                                            ', '\\n                                                                    How I rewired my brain in six weeks                                                            ', \"\\n                                                                    Where to find London's 'lost' palaces                                                            \", '\\n                                                                    Musk woos world leaders, courting controversy                                                            ', \"\\n                                                                    Forget LA – it's British film studios that are in demand                                                            \", '\\n                                                                    The turbo-charged plants that could boost farm output                                                            ', '\\n                                                                    Find the right BBC email newsletter for you                                                            ', '\\n                                                                    Watch: Seal pups tangled in nets freed by beachgoers                                                            ', '\\n                                                                    Watch: Seal pups tangled in nets freed by...                                                            ', '\\n                                                                    Watch: Wrestlers grapple on Japanese bullet...                                                            ', \"\\n                                                                    Watch: Those viral 'alien corpses' get lab...                                                            \", '\\n                                                                    Fire guts landmark Khartoum skyscraper                                                            ', \"\\n                                                                    'All that's left is rubble and dirt and...                                                            \", '\\n                                                                    Rugby fans treat Nice to Welsh hymn in flash...                                                            ', '\\n                                                                    On the shoreline where bodies are washing up                                                            ', '\\n                                                                    Drone footage shows extent of Derna...                                                            ', '\\n                                                                    Moment police officer dragged away by...                                                            ', '\\n                                                                    Watch: Lightning flashes over southern...                                                            ', '\\n                                                                    Channel 4 boss: Brand allegations are horrendous                                                            ', '\\n                                                                    Why are US car workers on strike?                                                            ', '\\n                                                                    New AI tool speeds up search for disease genes                                                            ', '\\n                                                                    Braverman and Facebook clash over private message plans                                                            ', '\\n                                                                    Meditate daily to beat stress blood pressure                                                            ', '\\n                                                                    Chris Evans tells listeners he is now cancer free                                                            ', '\\n                                                                    Mesmerising marine life photos scoop world prize                                                            ', '\\n                                                                    The tiny island with a population of 16                                                            ', '\\n                                                                    The firms hoping to take psychedelic drugs mainstream                                                            ', '\\n                                                                    In pictures: Stars hit red carpet at Vogue World                                                            ', '\\n                                                                    Fish, flares and faces: Africa’s top shots                                                            ', '\\n                                                                    Stunning image of huge plasma arc wins award                                                            ', '\\n                                                                    In pictures: Desperate search for flood survivors                                                            ', '\\n                                                                    Photographs that shaped the urban landscape                                                            ']\n",
      "['https://www.bbc.com/news/world-europe-66863702', 'https://www.bbc.comhttps://www.bbc.com/news/world-asia-india-66851960', 'https://www.bbc.comhttps://www.bbc.com/news/world-us-canada-66861588', 'https://www.bbc.comhttps://www.bbc.com/worklife/article/20230918-the-companies-doling-out-thousands-for-workers-holidays', 'https://www.bbc.comhttps://www.bbc.com/future/article/20230918-how-community-maps-can-protect-children-from-extreme-heat', 'https://www.bbc.com/sport/football/66863081', 'https://www.bbc.com/news/world-asia-india-66844028', 'https://www.bbc.com/news/live/world-europe-66866545', 'https://www.bbc.com/sport/live/football/66862986', 'https://www.bbc.com/sport/football/66865014', 'https://www.bbc.com/sport/football/66769248', 'https://www.bbc.comhttps://www.bbc.com/news/world-australia-66793592', 'https://www.bbc.com/news/world-asia-india-66851144', 'https://www.bbc.com/news/business-66862576', 'https://www.bbc.com/news/world-asia-66852841', 'https://www.bbc.comhttps://www.bbc.com/travel/article/20230919-the-simple-art-of-rice-seafood-paella-with-lime', 'https://www.bbc.comhttps://www.bbc.com/worklife/article/20230918-business-in-russia-why-some-firms-havent-left', 'https://www.bbc.comhttps://www.bbc.com/culture/article/20230919-the-super-models-how-linda-cindy-christy-naomi-and-tatjana-defined-an-era', 'https://www.bbc.comhttps://www.bbc.com/future/article/20230912-how-i-hacked-my-brain', 'https://www.bbc.comhttps://www.bbc.com/travel/article/20230919-a-royal-tour-of-londons-best-palaces-and-parks-with-historian-tracy-borman', 'https://www.bbc.comhttps://www.bbc.com/news/world-us-canada-66777096', 'https://www.bbc.comhttps://www.bbc.com/news/business-66841602', 'https://www.bbc.comhttps://www.bbc.com/news/business-66798680', 'https://www.bbc.comhttps://www.bbc.com/news/world-us-canada-66715271?&at_bbc_team=studios&at_medium=native&at_objective=acquisition&at_ptr_type=&at_ptr_name=bbc.com&at_format=Module&at_link_origin=bbchomepage&at_campaign=nleditorial&at_campaign_id=&at_adset_name=&at_adset_id=&at_creation=&at_creative_id=&at_campaign_type=owned', 'https://www.bbc.com/news/world-africa-66862091', 'https://www.bbc.com/news/world-africa-66862091', 'https://www.bbc.com/news/world-asia-66856413', 'https://www.bbc.com/news/world-66853551', 'https://www.bbc.com/news/world-africa-66838176', 'https://www.bbc.com/news/world-africa-66833155', 'https://www.bbc.com/news/uk-wales-66833895', 'https://www.bbc.com/news/world-africa-66830535', 'https://www.bbc.com/news/world-africa-66830533', 'https://www.bbc.com/news/world-us-canada-66827928', 'https://www.bbc.com/news/uk-66842877', 'https://www.bbc.com/news/entertainment-arts-66863272', 'https://www.bbc.com/news/business-66847747', 'https://www.bbc.com/news/science-environment-66847977', 'https://www.bbc.com/news/technology-66854622', 'https://www.bbc.com/news/health-66807432', 'https://www.bbc.com/news/entertainment-arts-66863274', 'https://www.bbc.com/news/in-pictures-66810094', 'https://www.bbc.comhttps://www.bbc.com/reel/playlist/future-planet?vpid=p07gsk79', 'https://www.bbc.comhttps://www.bbc.com/news/business-66669641', 'https://www.bbc.com/news/entertainment-arts-66808254', 'https://www.bbc.com/news/world-africa-66807540', 'https://www.bbc.com/news/in-pictures-66807814', 'https://www.bbc.com/news/in-pictures-66805006', 'https://www.bbc.com/news/in-pictures-66784928']\n"
     ]
    }
   ],
   "source": [
    "article_title=[]\n",
    "links=[]\n",
    "\n",
    "for t in soup.select('h3.media__title a'):\n",
    "  article_title.append(t.get_text())\n",
    "  links.append('https://www.bbc.com'+ t.attrs.get('href'))\n",
    "\n",
    "print(article_title)\n",
    "print(links)"
   ]
  },
  {
   "cell_type": "code",
   "execution_count": null,
   "metadata": {},
   "outputs": [],
   "source": [
    "genre =  []\n",
    "\n",
    "for link in links:\n",
    "    response_link = requests.get(link, headers=headers)\n",
    "    soup_link = BeautifulSoup(response_link.text, \"html.parser\")\n",
    "\n",
    "genre = soup_link.select()\n",
    "\n",
    "\n",
    "if genre:\n",
    "\n",
    "\n"
   ]
  },
  {
   "cell_type": "code",
   "execution_count": 12,
   "metadata": {},
   "outputs": [
    {
     "name": "stdout",
     "output_type": "stream",
     "text": [
      "                                       article title  \\\n",
      "0  \\n                                            ...   \n",
      "1  \\n                                            ...   \n",
      "2  \\n                                            ...   \n",
      "3  \\n                                            ...   \n",
      "4  \\n                                            ...   \n",
      "\n",
      "                                                link  \n",
      "0                        /news/world-europe-66863702  \n",
      "1  https://www.bbc.com/news/world-asia-india-6685...  \n",
      "2  https://www.bbc.com/news/world-us-canada-66861588  \n",
      "3  https://www.bbc.com/worklife/article/20230918-...  \n",
      "4  https://www.bbc.com/future/article/20230918-ho...  \n"
     ]
    }
   ],
   "source": [
    "df = pd.DataFrame(\n",
    "    {'article title': article_title,\n",
    "     'link': links\n",
    "     }\n",
    "    )\n",
    "\n",
    "print (df.head())\n",
    "\n",
    "df.to_csv('bbcarticles.csv', index=False)"
   ]
  }
 ],
 "metadata": {
  "kernelspec": {
   "display_name": "Python 3",
   "language": "python",
   "name": "python3"
  },
  "language_info": {
   "codemirror_mode": {
    "name": "ipython",
    "version": 3
   },
   "file_extension": ".py",
   "mimetype": "text/x-python",
   "name": "python",
   "nbconvert_exporter": "python",
   "pygments_lexer": "ipython3",
   "version": "3.10.12"
  },
  "orig_nbformat": 4
 },
 "nbformat": 4,
 "nbformat_minor": 2
}
